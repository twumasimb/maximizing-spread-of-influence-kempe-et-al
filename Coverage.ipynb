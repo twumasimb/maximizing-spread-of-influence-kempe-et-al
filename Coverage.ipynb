{
 "cells": [
  {
   "cell_type": "code",
   "execution_count": 1,
   "metadata": {},
   "outputs": [],
   "source": [
    "#importing important libraries\n",
    "import networkx as nx\n",
    "import matplotlib.pyplot as plt\n",
    "import random\n",
    "import pickle"
   ]
  },
  {
   "cell_type": "code",
   "execution_count": 2,
   "metadata": {},
   "outputs": [],
   "source": [
    "# Adding weights to the ICM graph\n",
    "def assign_weights(graph):\n",
    "    for u,v in graph.edges():\n",
    "        weight = 1/(graph.degree(v))\n",
    "        graph[u][v]['weight'] = weight\n",
    "    return graph"
   ]
  },
  {
   "cell_type": "code",
   "execution_count": 3,
   "metadata": {},
   "outputs": [],
   "source": [
    "# Function to generate the graphs with random weights\n",
    "def sample_w_icm(g, num_of_networks):\n",
    "    gen_nets = []\n",
    "    for n in range(num_of_networks):\n",
    "        h = nx.Graph()\n",
    "        h.add_nodes_from(g.nodes())\n",
    "        for u,v in g.edges():\n",
    "            if random.random() < g[u][v]['weight']:\n",
    "                h.add_edge(u,v)\n",
    "        gen_nets.append(h)\n",
    "    return gen_nets"
   ]
  },
  {
   "cell_type": "code",
   "execution_count": 4,
   "metadata": {},
   "outputs": [],
   "source": [
    "def average_coverage(Set, list_of_graphs):\n",
    "    list_of_nodes = list(Set)\n",
    "    total_size = 0\n",
    "    average_coverage = 0\n",
    "    for graph in list_of_graphs:\n",
    "        set_of_nodes_covered = set()\n",
    "        if (len(list_of_nodes) == 0):\n",
    "            average_coverage = 0\n",
    "        else:\n",
    "            for item in list_of_nodes:\n",
    "                coverage_in_a_single_graph = nx.node_connected_component(graph, item)\n",
    "                set_of_nodes_covered = set_of_nodes_covered.union(coverage_in_a_single_graph)\n",
    "        size_of_coverage_in_the_graph = len(set_of_nodes_covered)\n",
    "        total_size += size_of_coverage_in_the_graph\n",
    "    average_coverage = total_size/len(list_of_graphs)\n",
    "    \n",
    "    return average_coverage"
   ]
  },
  {
   "cell_type": "code",
   "execution_count": 5,
   "metadata": {},
   "outputs": [],
   "source": [
    "# def coverage(Set, graph):\n",
    "#     list_of_nodes = list(Set)   # Convert set to list because sets are immutable\n",
    "#     set_of_nodes_covered = set()\n",
    "#     for item in list_of_nodes:\n",
    "#         coverage_in_a_single_graph = nx.node_connected_component(graph, item)\n",
    "#         set_of_nodes_covered = set_of_nodes_covered.union(coverage_in_a_single_graph)\n",
    "#     size_of_coverage_in_the_graph = len(set_of_nodes_covered)\n",
    "\n",
    "#     return size_of_coverage_in_the_graph"
   ]
  },
  {
   "cell_type": "code",
   "execution_count": 6,
   "metadata": {},
   "outputs": [],
   "source": [
    "def get_nodes(graph):\n",
    "    y = []\n",
    "    for i in range(len(graph.nodes)):\n",
    "        y.append(i)\n",
    "    return y"
   ]
  },
  {
   "cell_type": "code",
   "execution_count": 7,
   "metadata": {},
   "outputs": [],
   "source": [
    "def greedy(graphList, k):\n",
    "    S = set()\n",
    "    list_of_nodes = get_nodes(graphList[0])\n",
    "    gain = []\n",
    "    while(len(S)) < k:\n",
    "        list_of_marginal_gains = []\n",
    "        for item in list_of_nodes:\n",
    "            A = set()\n",
    "            A.add(item)\n",
    "            A = A | S\n",
    "            marginal_gain = average_coverage(A, graphList) - average_coverage(S, graphList)\n",
    "            list_of_marginal_gains.append(marginal_gain)\n",
    "        index = list_of_marginal_gains.index(max(list_of_marginal_gains))\n",
    "        gain.append(max(list_of_marginal_gains))\n",
    "        S.add(list_of_nodes[index])\n",
    "        list_of_nodes.pop(index)\n",
    "    \n",
    "    # plt.plot(range(0, len(gain)), gain)\n",
    "    # plt.ylabel(\"marginal gain\")\n",
    "    # plt.show()\n",
    "\n",
    "    return S, gain"
   ]
  },
  {
   "cell_type": "code",
   "execution_count": null,
   "metadata": {},
   "outputs": [],
   "source": [
    "# Working on the fairness data\n",
    "g = pickle.load(open('networks/graph_spa_500_0.pickle','rb')) \n",
    "\n",
    "# Assigning weigths to the edges\n",
    "graph = assign_weights(g)\n",
    "\n",
    "# Create samples \n",
    "sampled_graphs = sample_w_icm(g, 10000)\n",
    "\n",
    "# finding the coverage for each number of nodes\n",
    "nodes_covered = []\n",
    "\n",
    "for k in range(1, 31):\n",
    "    cover = greedy(sampled_graphs, k)\n",
    "    total_cover = sum(cover[1])\n",
    "    nodes_covered.append(total_cover)\n",
    "    print(f'Iter {k}')\n",
    "# k = 30\n",
    "# best_20 = greedy(sampled_graphs, k)"
   ]
  },
  {
   "cell_type": "code",
   "execution_count": 11,
   "metadata": {},
   "outputs": [
    {
     "data": {
      "image/png": "[encoded data removed]",
      "text/plain": [
       "<Figure size 640x480 with 1 Axes>"
      ]
     },
     "metadata": {},
     "output_type": "display_data"
    }
   ],
   "source": [
    "plt.plot(range(0, len(nodes_covered)), nodes_covered)\n",
    "plt.ylabel(\"Active Set Size\")\n",
    "plt.show()"
   ]
  },
  {
   "cell_type": "code",
   "execution_count": 9,
   "metadata": {},
   "outputs": [],
   "source": [
    "# The nodes that were selected\n",
    "# best_20[0]"
   ]
  },
  {
   "cell_type": "code",
   "execution_count": 10,
   "metadata": {},
   "outputs": [],
   "source": [
    "# The marginal gain\n",
    "# best_20[1]"
   ]
  },
  {
   "cell_type": "code",
   "execution_count": null,
   "metadata": {},
   "outputs": [],
   "source": []
  }
 ],
 "metadata": {
  "kernelspec": {
   "display_name": "Python 3.9.4 64-bit",
   "language": "python",
   "name": "python3"
  },
  "language_info": {
   "codemirror_mode": {
    "name": "ipython",
    "version": 3
   },
   "file_extension": ".py",
   "mimetype": "text/x-python",
   "name": "python",
   "nbconvert_exporter": "python",
   "pygments_lexer": "ipython3",
   "version": "3.9.4"
  },
  "orig_nbformat": 4,
  "vscode": {
   "interpreter": {
    "hash": "11938c6bc6919ae2720b4d5011047913343b08a43b18698fd82dedb0d4417594"
   }
  }
 },
 "nbformat": 4,
 "nbformat_minor": 2
}
