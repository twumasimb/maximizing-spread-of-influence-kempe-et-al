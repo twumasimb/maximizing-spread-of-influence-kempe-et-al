{
 "cells": [
  {
   "cell_type": "code",
   "execution_count": 1,
   "id": "ee2a1c72",
   "metadata": {},
   "outputs": [],
   "source": [
    "import networkx as nx\n",
    "import random\n",
    "import matplotlib.pyplot as plt"
   ]
  },
  {
   "cell_type": "code",
   "execution_count": 2,
   "id": "c610b604",
   "metadata": {},
   "outputs": [
    {
     "data": {
      "text/plain": [
       "10"
      ]
     },
     "execution_count": 2,
     "metadata": {},
     "output_type": "execute_result"
    }
   ],
   "source": [
    "# Creating network with 10 nodes\n",
    "G = nx.Graph()\n",
    "node_list = range(1,11)\n",
    "G.add_nodes_from(node_list)\n",
    "G.number_of_nodes()"
   ]
  },
  {
   "cell_type": "code",
   "execution_count": 3,
   "id": "07d107a3",
   "metadata": {},
   "outputs": [],
   "source": [
    "# Important list initializations\n",
    "weighted_edges = []"
   ]
  },
  {
   "cell_type": "code",
   "execution_count": 4,
   "id": "3487e8a2",
   "metadata": {},
   "outputs": [
    {
     "data": {
      "text/plain": [
       "DegreeView({1: 0, 2: 0, 3: 0, 4: 0, 5: 0, 6: 0, 7: 0, 8: 0, 9: 0, 10: 0})"
      ]
     },
     "execution_count": 4,
     "metadata": {},
     "output_type": "execute_result"
    }
   ],
   "source": [
    "G.degree()"
   ]
  },
  {
   "cell_type": "code",
   "execution_count": 5,
   "id": "ce10da94",
   "metadata": {
    "scrolled": true
   },
   "outputs": [
    {
     "data": {
      "text/plain": [
       "NodeView((1, 2, 3, 4, 5, 6, 7, 8, 9, 10))"
      ]
     },
     "execution_count": 5,
     "metadata": {},
     "output_type": "execute_result"
    }
   ],
   "source": [
    "G.nodes()"
   ]
  },
  {
   "cell_type": "code",
   "execution_count": 6,
   "id": "fd43e0b1",
   "metadata": {},
   "outputs": [
    {
     "data": {
      "text/plain": [
       "[1, 2, 3, 4, 5, 6, 7, 8, 9, 10]"
      ]
     },
     "execution_count": 6,
     "metadata": {},
     "output_type": "execute_result"
    }
   ],
   "source": [
    "node_list = list(G.nodes)\n",
    "node_list"
   ]
  },
  {
   "cell_type": "code",
   "execution_count": 7,
   "id": "0f61a2e8",
   "metadata": {},
   "outputs": [
    {
     "data": {
      "text/plain": [
       "10"
      ]
     },
     "execution_count": 7,
     "metadata": {},
     "output_type": "execute_result"
    }
   ],
   "source": [
    "len(node_list)"
   ]
  },
  {
   "cell_type": "code",
   "execution_count": 8,
   "id": "0def18da",
   "metadata": {},
   "outputs": [],
   "source": [
    "edges = [[1,2],[2,3],[3,4],[1,7],[1,5],[2,5],[3,6],[4,6],[4,10],[5,7],[5,8],[6,9],[6,10],[7,8],[8,9],[9,10]]"
   ]
  },
  {
   "cell_type": "code",
   "execution_count": 9,
   "id": "75adaf0e",
   "metadata": {
    "scrolled": true
   },
   "outputs": [
    {
     "data": {
      "text/plain": [
       "[0.5,\n",
       " 0.2,\n",
       " 0.1,\n",
       " 0.1,\n",
       " 0.6000000000000001,\n",
       " 0.9,\n",
       " 0.5,\n",
       " 0.0,\n",
       " 0.0,\n",
       " 0.5,\n",
       " 1.0,\n",
       " 0.8,\n",
       " 0.5,\n",
       " 0.8,\n",
       " 0.4,\n",
       " 0.4]"
      ]
     },
     "execution_count": 9,
     "metadata": {},
     "output_type": "execute_result"
    }
   ],
   "source": [
    "# Creatting random edges\n",
    "weights = []\n",
    "for i in range(0, len(edges)):\n",
    "    weights.append(random.randint(0,10)*0.1)\n",
    "weights    "
   ]
  },
  {
   "cell_type": "code",
   "execution_count": 10,
   "id": "37d6d5f3",
   "metadata": {},
   "outputs": [
    {
     "data": {
      "text/plain": [
       "[[1, 2, 0.5],\n",
       " [2, 3, 0.2],\n",
       " [3, 4, 0.1],\n",
       " [1, 7, 0.1],\n",
       " [1, 5, 0.6000000000000001],\n",
       " [2, 5, 0.9],\n",
       " [3, 6, 0.5],\n",
       " [4, 6, 0.0],\n",
       " [4, 10, 0.0],\n",
       " [5, 7, 0.5],\n",
       " [5, 8, 1.0],\n",
       " [6, 9, 0.8],\n",
       " [6, 10, 0.5],\n",
       " [7, 8, 0.8],\n",
       " [8, 9, 0.4],\n",
       " [9, 10, 0.4]]"
      ]
     },
     "execution_count": 10,
     "metadata": {},
     "output_type": "execute_result"
    }
   ],
   "source": [
    "weighted_edges = []\n",
    "weighted_edges = edges\n",
    "for i in range(0, len(edges)):\n",
    "    weighted_edges[i].append(weights[i])\n",
    "weighted_edges"
   ]
  },
  {
   "cell_type": "code",
   "execution_count": 11,
   "id": "c1c72327",
   "metadata": {},
   "outputs": [
    {
     "data": {
      "text/plain": [
       "[[1, 5, 0.6000000000000001],\n",
       " [2, 5, 0.9],\n",
       " [5, 8, 1.0],\n",
       " [6, 9, 0.8],\n",
       " [7, 8, 0.8]]"
      ]
     },
     "execution_count": 11,
     "metadata": {},
     "output_type": "execute_result"
    }
   ],
   "source": [
    "# Get edges that have weights greater that 0.6\n",
    "new_edges = []\n",
    "for i in range(0, len(weighted_edges)):\n",
    "    if(weighted_edges[i][2] > 0.5):\n",
    "        new_edges.append(weighted_edges[i])\n",
    "weighted_edges.clear()\n",
    "new_edges"
   ]
  },
  {
   "cell_type": "code",
   "execution_count": 18,
   "id": "d318232a",
   "metadata": {},
   "outputs": [
    {
     "data": {
      "text/plain": [
       "[4]"
      ]
     },
     "execution_count": 18,
     "metadata": {},
     "output_type": "execute_result"
    }
   ],
   "source": [
    "#Find all shortest paths\n",
    "\n",
    "paths = []\n",
    "for path in nx.shortest_path(G, 4):\n",
    "    paths.append(path)\n",
    "paths"
   ]
  },
  {
   "cell_type": "code",
   "execution_count": null,
   "id": "690db712",
   "metadata": {},
   "outputs": [],
   "source": []
  },
  {
   "cell_type": "code",
   "execution_count": null,
   "id": "9cfd0f3f",
   "metadata": {},
   "outputs": [],
   "source": []
  },
  {
   "cell_type": "code",
   "execution_count": null,
   "id": "b95e7bb4",
   "metadata": {},
   "outputs": [],
   "source": [
    "print(len(new_edges))"
   ]
  },
  {
   "cell_type": "code",
   "execution_count": 15,
   "id": "c2aa936c",
   "metadata": {},
   "outputs": [],
   "source": [
    "G.add_weighted_edges_from(new_edges)"
   ]
  },
  {
   "cell_type": "code",
   "execution_count": null,
   "id": "710a3733",
   "metadata": {
    "scrolled": true
   },
   "outputs": [],
   "source": [
    "G.degree()"
   ]
  },
  {
   "cell_type": "code",
   "execution_count": null,
   "id": "3e3656d2",
   "metadata": {},
   "outputs": [],
   "source": [
    "print(G)"
   ]
  },
  {
   "cell_type": "code",
   "execution_count": null,
   "id": "ea94c954",
   "metadata": {},
   "outputs": [],
   "source": [
    "G"
   ]
  },
  {
   "cell_type": "code",
   "execution_count": null,
   "id": "49de2d0f",
   "metadata": {},
   "outputs": [],
   "source": [
    "paths = []\n",
    "for path in nx.all_simple_paths(G, source=1, target=10):\n",
    "    paths.append(path)\n",
    "paths"
   ]
  },
  {
   "cell_type": "code",
   "execution_count": null,
   "id": "b9d25dfd",
   "metadata": {},
   "outputs": [],
   "source": [
    "# finding the nodes that will be covered for each \n",
    "\n",
    "set_for_node_one = []\n",
    "for i in range(0, len(paths)):\n",
    "    set_for_node_one += paths[i]\n",
    "set_for_node_one = set(set_for_node_one)\n",
    "set_for_node_one"
   ]
  },
  {
   "cell_type": "code",
   "execution_count": null,
   "id": "378c8026",
   "metadata": {},
   "outputs": [],
   "source": [
    "nx.subgraph_centrality(G)"
   ]
  },
  {
   "cell_type": "code",
   "execution_count": null,
   "id": "ddff422d",
   "metadata": {},
   "outputs": [],
   "source": [
    "nx.node_connected_component(G, 8)"
   ]
  },
  {
   "cell_type": "code",
   "execution_count": null,
   "id": "aa3c68d3",
   "metadata": {},
   "outputs": [],
   "source": [
    "def fetch_connected_nodes(G, node, seen = None):\n",
    "    if seen == None:\n",
    "        seen = set([node])\n",
    "    for neighbor in G.neighbors(node):\n",
    "        print(neighbor)\n",
    "        if neighbor not in seen:\n",
    "            seen.add(neighbor)\n",
    "            fetch_connected_nodes(G, neighbor, seen)\n",
    "    return seen\n",
    "\n",
    "fetch_connected_nodes(G, 8, seen = None)"
   ]
  },
  {
   "cell_type": "code",
   "execution_count": null,
   "id": "0dfe068e",
   "metadata": {},
   "outputs": [],
   "source": [
    "neiby = G.neighbors(8)"
   ]
  },
  {
   "cell_type": "code",
   "execution_count": null,
   "id": "e6b72655",
   "metadata": {},
   "outputs": [],
   "source": [
    "neiby"
   ]
  },
  {
   "cell_type": "code",
   "execution_count": null,
   "id": "07212bf5",
   "metadata": {},
   "outputs": [],
   "source": [
    "print(neiby)"
   ]
  },
  {
   "cell_type": "code",
   "execution_count": null,
   "id": "1db8cfa8",
   "metadata": {},
   "outputs": [],
   "source": [
    "bb = [[2],[5],[4]]\n",
    "bb"
   ]
  },
  {
   "cell_type": "code",
   "execution_count": null,
   "id": "00b0a9c6",
   "metadata": {},
   "outputs": [],
   "source": [
    "x = bb[2]"
   ]
  },
  {
   "cell_type": "code",
   "execution_count": null,
   "id": "c63ac7e6",
   "metadata": {},
   "outputs": [],
   "source": [
    "x"
   ]
  },
  {
   "cell_type": "code",
   "execution_count": null,
   "id": "ee75b497",
   "metadata": {},
   "outputs": [],
   "source": [
    "bb.pop(1)"
   ]
  },
  {
   "cell_type": "code",
   "execution_count": null,
   "id": "92a8bf7e",
   "metadata": {},
   "outputs": [],
   "source": [
    "bb"
   ]
  },
  {
   "cell_type": "code",
   "execution_count": 17,
   "id": "311bd605",
   "metadata": {},
   "outputs": [
    {
     "data": {
      "image/png": "[encoded data removed]",
      "text/plain": [
       "<Figure size 640x480 with 1 Axes>"
      ]
     },
     "metadata": {},
     "output_type": "display_data"
    },
    {
     "data": {
      "text/plain": [
       "<Figure size 640x480 with 0 Axes>"
      ]
     },
     "metadata": {},
     "output_type": "display_data"
    }
   ],
   "source": [
    "color = \"green\"\n",
    "nx.draw(G, with_labels=True, node_color= color) #draw the network graph \n",
    "plt.figure()\n",
    "plt.show() #to show the graph by plotting it"
   ]
  },
  {
   "cell_type": "code",
   "execution_count": null,
   "id": "5059bfd9",
   "metadata": {},
   "outputs": [],
   "source": []
  },
  {
   "cell_type": "code",
   "execution_count": null,
   "id": "6c807425",
   "metadata": {},
   "outputs": [],
   "source": []
  },
  {
   "cell_type": "code",
   "execution_count": null,
   "id": "59bb4cbc",
   "metadata": {},
   "outputs": [],
   "source": []
  }
 ],
 "metadata": {
  "kernelspec": {
   "display_name": "Python 3 (ipykernel)",
   "language": "python",
   "name": "python3"
  },
  "language_info": {
   "codemirror_mode": {
    "name": "ipython",
    "version": 3
   },
   "file_extension": ".py",
   "mimetype": "text/x-python",
   "name": "python",
   "nbconvert_exporter": "python",
   "pygments_lexer": "ipython3",
   "version": "3.9.13"
  }
 },
 "nbformat": 4,
 "nbformat_minor": 5
}
