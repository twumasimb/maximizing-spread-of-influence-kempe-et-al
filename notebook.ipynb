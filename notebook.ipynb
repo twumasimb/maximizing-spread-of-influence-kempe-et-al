{
 "cells": [
  {
   "cell_type": "code",
   "execution_count": 1,
   "id": "60fa7140",
   "metadata": {},
   "outputs": [],
   "source": [
    "import networkx as nx\n",
    "import random\n",
    "import matplotlib.pyplot as plt"
   ]
  },
  {
   "cell_type": "code",
   "execution_count": 2,
   "id": "c37dc901",
   "metadata": {},
   "outputs": [
    {
     "data": {
      "text/plain": [
       "10"
      ]
     },
     "execution_count": 2,
     "metadata": {},
     "output_type": "execute_result"
    }
   ],
   "source": [
    "# Creating network with 10 nodes\n",
    "G = nx.Graph()\n",
    "node_list = range(1,11)\n",
    "G.add_nodes_from(node_list)\n",
    "G.number_of_nodes()"
   ]
  },
  {
   "cell_type": "code",
   "execution_count": 13,
   "id": "c07f7a4f",
   "metadata": {},
   "outputs": [],
   "source": [
    "# Important list initializations\n",
    "weighted_edges = []"
   ]
  },
  {
   "cell_type": "code",
   "execution_count": 3,
   "id": "d93c24a1",
   "metadata": {},
   "outputs": [
    {
     "data": {
      "text/plain": [
       "DegreeView({1: 0, 2: 0, 3: 0, 4: 0, 5: 0, 6: 0, 7: 0, 8: 0, 9: 0, 10: 0})"
      ]
     },
     "execution_count": 3,
     "metadata": {},
     "output_type": "execute_result"
    }
   ],
   "source": [
    "G.degree()"
   ]
  },
  {
   "cell_type": "code",
   "execution_count": 4,
   "id": "dc70daf4",
   "metadata": {
    "scrolled": true
   },
   "outputs": [
    {
     "data": {
      "text/plain": [
       "NodeView((1, 2, 3, 4, 5, 6, 7, 8, 9, 10))"
      ]
     },
     "execution_count": 4,
     "metadata": {},
     "output_type": "execute_result"
    }
   ],
   "source": [
    "G.nodes()"
   ]
  },
  {
   "cell_type": "code",
   "execution_count": 6,
   "id": "2f650058",
   "metadata": {},
   "outputs": [
    {
     "data": {
      "text/plain": [
       "[1, 2, 3, 4, 5, 6, 7, 8, 9, 10]"
      ]
     },
     "execution_count": 6,
     "metadata": {},
     "output_type": "execute_result"
    }
   ],
   "source": [
    "node_list = list(G.nodes)\n",
    "node_list"
   ]
  },
  {
   "cell_type": "code",
   "execution_count": 31,
   "id": "c9cd62f3",
   "metadata": {},
   "outputs": [],
   "source": [
    "edges = [[1,2],[2,3],[3,4],[1,7],[1,5],[2,5],[3,6],[4,6],[4,10],[5,7],[5,8],[6,9],[6,10],[7,8],[8,9],[9,10]]"
   ]
  },
  {
   "cell_type": "code",
   "execution_count": 32,
   "id": "9931ce04",
   "metadata": {
    "scrolled": true
   },
   "outputs": [
    {
     "data": {
      "text/plain": [
       "[0.1,\n",
       " 0.5,\n",
       " 0.6000000000000001,\n",
       " 1.0,\n",
       " 0.6000000000000001,\n",
       " 0.1,\n",
       " 1.0,\n",
       " 0.2,\n",
       " 0.1,\n",
       " 1.0,\n",
       " 0.8,\n",
       " 0.8,\n",
       " 0.2,\n",
       " 0.6000000000000001,\n",
       " 1.0,\n",
       " 0.6000000000000001]"
      ]
     },
     "execution_count": 32,
     "metadata": {},
     "output_type": "execute_result"
    }
   ],
   "source": [
    "# Creatting random edges\n",
    "weights = []\n",
    "for i in range(0, len(edges)):\n",
    "    weights.append(random.randint(0,10)*0.1)\n",
    "weights    "
   ]
  },
  {
   "cell_type": "code",
   "execution_count": 34,
   "id": "cb13b460",
   "metadata": {},
   "outputs": [
    {
     "data": {
      "text/plain": [
       "[[1, 2, 0.1],\n",
       " [2, 3, 0.5],\n",
       " [3, 4, 0.6000000000000001],\n",
       " [1, 7, 1.0],\n",
       " [1, 5, 0.6000000000000001],\n",
       " [2, 5, 0.1],\n",
       " [3, 6, 1.0],\n",
       " [4, 6, 0.2],\n",
       " [4, 10, 0.1],\n",
       " [5, 7, 1.0],\n",
       " [5, 8, 0.8],\n",
       " [6, 9, 0.8],\n",
       " [6, 10, 0.2],\n",
       " [7, 8, 0.6000000000000001],\n",
       " [8, 9, 1.0],\n",
       " [9, 10, 0.6000000000000001]]"
      ]
     },
     "execution_count": 34,
     "metadata": {},
     "output_type": "execute_result"
    }
   ],
   "source": [
    "weighted_edges = []\n",
    "weighted_edges = edges\n",
    "for i in range(0, len(edges)):\n",
    "    weighted_edges[i].append(weights[i])\n",
    "weighted_edges"
   ]
  },
  {
   "cell_type": "code",
   "execution_count": 35,
   "id": "b3e63d7a",
   "metadata": {},
   "outputs": [
    {
     "data": {
      "text/plain": [
       "[[3, 4, 0.6000000000000001],\n",
       " [1, 7, 1.0],\n",
       " [1, 5, 0.6000000000000001],\n",
       " [3, 6, 1.0],\n",
       " [5, 7, 1.0],\n",
       " [5, 8, 0.8],\n",
       " [6, 9, 0.8],\n",
       " [7, 8, 0.6000000000000001],\n",
       " [8, 9, 1.0],\n",
       " [9, 10, 0.6000000000000001]]"
      ]
     },
     "execution_count": 35,
     "metadata": {},
     "output_type": "execute_result"
    }
   ],
   "source": [
    "# Get edges that have weights greater that 0.6\n",
    "new_edges = []\n",
    "for i in range(0, len(weighted_edges)):\n",
    "    if(weighted_edges[i][2] > 0.5):\n",
    "        new_edges.append(weighted_edges[i])\n",
    "weighted_edges.clear()\n",
    "new_edges"
   ]
  },
  {
   "cell_type": "code",
   "execution_count": null,
   "id": "36a6ac8e",
   "metadata": {},
   "outputs": [],
   "source": [
    "print(len(new_edges))"
   ]
  },
  {
   "cell_type": "code",
   "execution_count": 38,
   "id": "6acdfa9a",
   "metadata": {},
   "outputs": [],
   "source": [
    "G.add_weighted_edges_from(new_edges)"
   ]
  },
  {
   "cell_type": "code",
   "execution_count": 41,
   "id": "6eb9943d",
   "metadata": {
    "scrolled": true
   },
   "outputs": [
    {
     "data": {
      "text/plain": [
       "DegreeView({1: 2, 2: 0, 3: 2, 4: 1, 5: 3, 6: 2, 7: 3, 8: 3, 9: 3, 10: 1})"
      ]
     },
     "execution_count": 41,
     "metadata": {},
     "output_type": "execute_result"
    }
   ],
   "source": [
    "G.degree()"
   ]
  },
  {
   "cell_type": "code",
   "execution_count": null,
   "id": "d1b448de",
   "metadata": {},
   "outputs": [],
   "source": [
    "print(G)"
   ]
  },
  {
   "cell_type": "code",
   "execution_count": null,
   "id": "d07f9d3e",
   "metadata": {},
   "outputs": [],
   "source": [
    "G"
   ]
  },
  {
   "cell_type": "code",
   "execution_count": 39,
   "id": "d4a36e11",
   "metadata": {},
   "outputs": [
    {
     "data": {
      "text/plain": [
       "[[1, 7, 5, 8, 9, 10], [1, 7, 8, 9, 10], [1, 5, 7, 8, 9, 10], [1, 5, 8, 9, 10]]"
      ]
     },
     "execution_count": 39,
     "metadata": {},
     "output_type": "execute_result"
    }
   ],
   "source": [
    "paths = []\n",
    "for path in nx.all_simple_paths(G, source=1, target=10):\n",
    "    paths.append(path)\n",
    "paths"
   ]
  },
  {
   "cell_type": "code",
   "execution_count": 40,
   "id": "cd1e00ad",
   "metadata": {},
   "outputs": [
    {
     "data": {
      "text/plain": [
       "{1, 5, 7, 8, 9, 10}"
      ]
     },
     "execution_count": 40,
     "metadata": {},
     "output_type": "execute_result"
    }
   ],
   "source": [
    "# finding the nodes that will be covered for each \n",
    "\n",
    "set_for_node_one = []\n",
    "for i in range(0, len(paths)):\n",
    "    set_for_node_one += paths[i]\n",
    "set_for_node_one = set(set_for_node_one)\n",
    "set_for_node_one"
   ]
  },
  {
   "cell_type": "code",
   "execution_count": null,
   "id": "740f80af",
   "metadata": {},
   "outputs": [],
   "source": [
    "nx.subgraph_centrality(G)"
   ]
  },
  {
   "cell_type": "code",
   "execution_count": null,
   "id": "9ebc8121",
   "metadata": {},
   "outputs": [],
   "source": [
    "nx.node_connected_component(G, 8)"
   ]
  },
  {
   "cell_type": "code",
   "execution_count": null,
   "id": "e60461fd",
   "metadata": {},
   "outputs": [],
   "source": [
    "def fetch_connected_nodes(G, node, seen = None):\n",
    "    if seen == None:\n",
    "        seen = set([node])\n",
    "    for neighbor in G.neighbors(node):\n",
    "        print(neighbor)\n",
    "        if neighbor not in seen:\n",
    "            seen.add(neighbor)\n",
    "            fetch_connected_nodes(G, neighbor, seen)\n",
    "    return seen\n",
    "\n",
    "fetch_connected_nodes(G, 8, seen = None)"
   ]
  },
  {
   "cell_type": "code",
   "execution_count": null,
   "id": "08982472",
   "metadata": {},
   "outputs": [],
   "source": [
    "neiby = G.neighbors(8)"
   ]
  },
  {
   "cell_type": "code",
   "execution_count": null,
   "id": "1dcc6c29",
   "metadata": {},
   "outputs": [],
   "source": [
    "neiby"
   ]
  },
  {
   "cell_type": "code",
   "execution_count": null,
   "id": "e83ce627",
   "metadata": {},
   "outputs": [],
   "source": [
    "print(neiby)"
   ]
  },
  {
   "cell_type": "code",
   "execution_count": null,
   "id": "afc16b73",
   "metadata": {},
   "outputs": [],
   "source": [
    "bb = [[2],[5],[4]]\n",
    "bb"
   ]
  },
  {
   "cell_type": "code",
   "execution_count": null,
   "id": "967ccb51",
   "metadata": {},
   "outputs": [],
   "source": [
    "x = bb[2]"
   ]
  },
  {
   "cell_type": "code",
   "execution_count": null,
   "id": "2b203f8d",
   "metadata": {},
   "outputs": [],
   "source": [
    "x"
   ]
  },
  {
   "cell_type": "code",
   "execution_count": null,
   "id": "a915f17f",
   "metadata": {},
   "outputs": [],
   "source": [
    "bb.pop(1)"
   ]
  },
  {
   "cell_type": "code",
   "execution_count": null,
   "id": "d540a47e",
   "metadata": {},
   "outputs": [],
   "source": [
    "bb"
   ]
  },
  {
   "cell_type": "code",
   "execution_count": 43,
   "id": "e8684bfd",
   "metadata": {},
   "outputs": [
    {
     "data": {
      "image/png": "[encoded data removed]",
      "text/plain": [
       "<Figure size 640x480 with 1 Axes>"
      ]
     },
     "metadata": {},
     "output_type": "display_data"
    },
    {
     "data": {
      "text/plain": [
       "<Figure size 640x480 with 0 Axes>"
      ]
     },
     "metadata": {},
     "output_type": "display_data"
    }
   ],
   "source": [
    "color = \"green\"\n",
    "nx.draw(G, with_labels=True, node_color= color) #draw the network graph \n",
    "plt.figure()\n",
    "plt.show() #to show the graph by plotting it"
   ]
  },
  {
   "cell_type": "code",
   "execution_count": null,
   "id": "5bcf9494",
   "metadata": {},
   "outputs": [],
   "source": []
  },
  {
   "cell_type": "code",
   "execution_count": null,
   "id": "ccf1577f",
   "metadata": {},
   "outputs": [],
   "source": []
  },
  {
   "cell_type": "code",
   "execution_count": null,
   "id": "3a833aea",
   "metadata": {},
   "outputs": [],
   "source": []
  }
 ],
 "metadata": {
  "kernelspec": {
   "display_name": "Python 3 (ipykernel)",
   "language": "python",
   "name": "python3"
  },
  "language_info": {
   "codemirror_mode": {
    "name": "ipython",
    "version": 3
   },
   "file_extension": ".py",
   "mimetype": "text/x-python",
   "name": "python",
   "nbconvert_exporter": "python",
   "pygments_lexer": "ipython3",
   "version": "3.9.13"
  }
 },
 "nbformat": 4,
 "nbformat_minor": 5
}
